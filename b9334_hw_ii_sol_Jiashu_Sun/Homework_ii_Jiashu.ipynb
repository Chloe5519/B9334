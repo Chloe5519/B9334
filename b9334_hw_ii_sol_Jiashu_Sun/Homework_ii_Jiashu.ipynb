{
 "cells": [
  {
   "cell_type": "code",
   "execution_count": 63,
   "metadata": {},
   "outputs": [],
   "source": [
    "import matplotlib.pyplot as plt\n",
    "plt.style.use('seaborn')\n",
    "import pandas as pd\n",
    "import numpy as np\n",
    "%matplotlib inline\n",
    "import pickle"
   ]
  },
  {
   "cell_type": "code",
   "execution_count": 200,
   "metadata": {},
   "outputs": [],
   "source": [
    "# Packages from fire_pytools\n",
    "from utils.monthly_date import *\n",
    "\n",
    "from portools.find_breakpoints import find_breakpoints\n",
    "from portools.sort_portfolios import sort_portfolios\n",
    "\n",
    "desired_width = 10\n",
    "pd.set_option('display.width', desired_width)\n",
    "idx = pd.IndexSlice\n",
    "\n",
    "# Annual Data and Monthly Data\n",
    "f_a = open('../output/stock_annual.pkl','rb')  \n",
    "adata = pickle.load(f_a)\n",
    "f_m = open('../output/stock_monthly.pkl','rb')  \n",
    "mdata = pickle.load(f_m)  "
   ]
  },
  {
   "cell_type": "code",
   "execution_count": 201,
   "metadata": {
    "scrolled": true
   },
   "outputs": [
    {
     "name": "stdout",
     "output_type": "stream",
     "text": [
      "Data deleted due to shrcd: 23.320000\n",
      "Data deleted due to exchcd: 1.560000\n",
      "NYSE breakpoints were calculated for me.\n",
      "Stocks were sorted according to breakpoints, starting in 1926.0\n",
      "NYSE breakpoints were calculated for beme.\n",
      "Stocks were sorted according to breakpoints, starting in 1926.0\n",
      "NYSE breakpoints were calculated for me.\n",
      "Stocks were sorted according to breakpoints, starting in 1951.0\n",
      "NYSE breakpoints were calculated for opbe.\n",
      "Stocks were sorted according to breakpoints, starting in 1951.0\n",
      "NYSE breakpoints were calculated for me.\n",
      "Stocks were sorted according to breakpoints, starting in 1952.0\n",
      "NYSE breakpoints were calculated for inv.\n",
      "Stocks were sorted according to breakpoints, starting in 1952.0\n"
     ]
    }
   ],
   "source": [
    "# Set names\n",
    "adata.drop(columns='inv', inplace=True)\n",
    "adata.rename(columns={'mesum_june': 'me', 'inv_gvkey': 'inv'}, inplace=True) \n",
    "\n",
    "# %% Create Filters\n",
    "# shrcd must be (10,11)\n",
    "# ---------------------\n",
    "print('Data deleted due to shrcd: %f' % np.round((1-adata.shrcd.isin([10, 11]).mean())*100, 2))\n",
    "sort_data = adata[adata.shrcd.isin([10, 11])].copy()\n",
    "\n",
    "# exchcd must be (1, 2, 3)\n",
    "# ------------------------\n",
    "print('Data deleted due to exchcd: %f' % np.round((1-sort_data.exchcd.isin([1, 2, 3]).mean())*100, 2))\n",
    "sort_data = sort_data[sort_data.exchcd.isin([1, 2, 3])]\n",
    "\n",
    "\n",
    "#del adata, mdata\n",
    "\n",
    "# %% Portfolio Sorts\n",
    "## ME X BEME\n",
    "# notice that the way we defined beme or beme is null if be<=0\n",
    "sample_filters = ((sort_data.me > 0) &\n",
    "                  (sort_data.mesum_dec > 0) &\n",
    "                  (sort_data.beme.notnull()))\n",
    "\n",
    "beme_sorts = sort_portfolios(data=sort_data[sample_filters],\n",
    "                             quantiles={'me': [0.5], 'beme': [0.3, 0.7]},\n",
    "                             id_variables=['rankyear', 'permno', 'exchcd'],\n",
    "                             exch_cd=[1]\n",
    "                             )\n",
    "\n",
    "# TODO: ME X OP 30th and 70th percentiles for BEME, OP and INV.\n",
    "sample_filters_meop = ((sort_data.me > 0) &\n",
    "                  (sort_data.mesum_dec > 0) &\n",
    "                       (sort_data.be > 0) &\n",
    "                  (sort_data.op.notnull()))\n",
    "\n",
    "opbe_sorts = sort_portfolios(data=sort_data[sample_filters_meop],\n",
    "                             quantiles={'me': [0.5], 'opbe': [0.3, 0.7]},\n",
    "                             id_variables=['rankyear', 'permno', 'exchcd'],\n",
    "                             exch_cd=[1]\n",
    "                             )\n",
    "# TODO: ME X INV \n",
    "sample_filters_meinv = ((sort_data.me > 0) &\n",
    "                  (sort_data.mesum_dec > 0) &\n",
    "                  (sort_data.inv.notnull()))\n",
    "\n",
    "inv_sorts = sort_portfolios(data=sort_data[sample_filters_meinv],\n",
    "                             quantiles={'me': [0.5], 'inv': [0.3, 0.7]},\n",
    "                             id_variables=['rankyear', 'permno', 'exchcd'],\n",
    "                             exch_cd=[1])"
   ]
  },
  {
   "cell_type": "markdown",
   "metadata": {},
   "source": [
    "# Stock Monthly Questions"
   ]
  },
  {
   "cell_type": "markdown",
   "metadata": {},
   "source": [
    "## Question 1"
   ]
  },
  {
   "cell_type": "code",
   "execution_count": 10,
   "metadata": {},
   "outputs": [],
   "source": [
    "mdata['yeara'] = pd.DatetimeIndex(mdata['date']).year\n",
    "mdata['month'] = pd.DatetimeIndex(mdata['date']).month"
   ]
  },
  {
   "cell_type": "code",
   "execution_count": 13,
   "metadata": {},
   "outputs": [],
   "source": [
    "mdata_Dec_2019 = mdata[(mdata['yeara'] == 2019) & (mdata['month'] == 12)]"
   ]
  },
  {
   "cell_type": "code",
   "execution_count": 20,
   "metadata": {},
   "outputs": [
    {
     "data": {
      "text/plain": [
       "7595"
      ]
     },
     "execution_count": 20,
     "metadata": {},
     "output_type": "execute_result"
    }
   ],
   "source": [
    "len(mdata_Dec_2019['permno'].unique())"
   ]
  },
  {
   "cell_type": "code",
   "execution_count": 15,
   "metadata": {},
   "outputs": [
    {
     "data": {
      "text/plain": [
       "mean     0.164604\n",
       "min     -0.999424\n",
       "max     12.960993\n",
       "Name: cret, dtype: float64"
      ]
     },
     "execution_count": 15,
     "metadata": {},
     "output_type": "execute_result"
    }
   ],
   "source": [
    "mdata_Dec_2019['cret'].agg(['mean','min','max'])"
   ]
  },
  {
   "cell_type": "code",
   "execution_count": 16,
   "metadata": {},
   "outputs": [
    {
     "data": {
      "text/plain": [
       "index              0\n",
       "date               0\n",
       "permno             0\n",
       "dlret           7543\n",
       "dlretx          7543\n",
       "exchcd             0\n",
       "naics             39\n",
       "permco             0\n",
       "prc               61\n",
       "ret               62\n",
       "shrcd              0\n",
       "shrout             0\n",
       "siccd             25\n",
       "ticker             0\n",
       "retadj            10\n",
       "me                61\n",
       "mesum_permco      46\n",
       "mesum           7595\n",
       "days_diff          0\n",
       "melag           7595\n",
       "cret             536\n",
       "rankyear           0\n",
       "yeara              0\n",
       "month              0\n",
       "dtype: int64"
      ]
     },
     "execution_count": 16,
     "metadata": {},
     "output_type": "execute_result"
    }
   ],
   "source": [
    "mdata_Dec_2019.isnull().sum(axis=0)"
   ]
  },
  {
   "cell_type": "markdown",
   "metadata": {},
   "source": [
    "## Question 2"
   ]
  },
  {
   "cell_type": "markdown",
   "metadata": {},
   "source": [
    "List the top 10 firms that had the highest 11-months performance returns as December 2019."
   ]
  },
  {
   "cell_type": "code",
   "execution_count": 99,
   "metadata": {},
   "outputs": [],
   "source": [
    "import warnings\n",
    "warnings.filterwarnings(\"ignore\")\n",
    "mdata_Dec_2019.sort_values(['cret'],ascending=False,inplace=True)"
   ]
  },
  {
   "cell_type": "code",
   "execution_count": 100,
   "metadata": {},
   "outputs": [
    {
     "data": {
      "text/html": [
       "<div>\n",
       "<style scoped>\n",
       "    .dataframe tbody tr th:only-of-type {\n",
       "        vertical-align: middle;\n",
       "    }\n",
       "\n",
       "    .dataframe tbody tr th {\n",
       "        vertical-align: top;\n",
       "    }\n",
       "\n",
       "    .dataframe thead th {\n",
       "        text-align: right;\n",
       "    }\n",
       "</style>\n",
       "<table border=\"1\" class=\"dataframe\">\n",
       "  <thead>\n",
       "    <tr style=\"text-align: right;\">\n",
       "      <th></th>\n",
       "      <th>permno</th>\n",
       "      <th>cret</th>\n",
       "    </tr>\n",
       "  </thead>\n",
       "  <tbody>\n",
       "    <tr>\n",
       "      <th>256135</th>\n",
       "      <td>15831</td>\n",
       "      <td>12.960993</td>\n",
       "    </tr>\n",
       "    <tr>\n",
       "      <th>311315</th>\n",
       "      <td>17958</td>\n",
       "      <td>10.610972</td>\n",
       "    </tr>\n",
       "    <tr>\n",
       "      <th>309894</th>\n",
       "      <td>17880</td>\n",
       "      <td>7.423445</td>\n",
       "    </tr>\n",
       "    <tr>\n",
       "      <th>1332245</th>\n",
       "      <td>89289</td>\n",
       "      <td>5.486487</td>\n",
       "    </tr>\n",
       "    <tr>\n",
       "      <th>803629</th>\n",
       "      <td>80069</td>\n",
       "      <td>4.878422</td>\n",
       "    </tr>\n",
       "    <tr>\n",
       "      <th>311797</th>\n",
       "      <td>17973</td>\n",
       "      <td>4.627119</td>\n",
       "    </tr>\n",
       "    <tr>\n",
       "      <th>274716</th>\n",
       "      <td>16524</td>\n",
       "      <td>4.464417</td>\n",
       "    </tr>\n",
       "    <tr>\n",
       "      <th>285336</th>\n",
       "      <td>16932</td>\n",
       "      <td>4.234008</td>\n",
       "    </tr>\n",
       "    <tr>\n",
       "      <th>258608</th>\n",
       "      <td>15914</td>\n",
       "      <td>4.208334</td>\n",
       "    </tr>\n",
       "    <tr>\n",
       "      <th>244193</th>\n",
       "      <td>15496</td>\n",
       "      <td>4.195531</td>\n",
       "    </tr>\n",
       "  </tbody>\n",
       "</table>\n",
       "</div>"
      ],
      "text/plain": [
       "         permno  \\\n",
       "256135    15831   \n",
       "311315    17958   \n",
       "309894    17880   \n",
       "1332245   89289   \n",
       "803629    80069   \n",
       "311797    17973   \n",
       "274716    16524   \n",
       "285336    16932   \n",
       "258608    15914   \n",
       "244193    15496   \n",
       "\n",
       "              cret  \n",
       "256135   12.960993  \n",
       "311315   10.610972  \n",
       "309894    7.423445  \n",
       "1332245   5.486487  \n",
       "803629    4.878422  \n",
       "311797    4.627119  \n",
       "274716    4.464417  \n",
       "285336    4.234008  \n",
       "258608    4.208334  \n",
       "244193    4.195531  "
      ]
     },
     "execution_count": 100,
     "metadata": {},
     "output_type": "execute_result"
    }
   ],
   "source": [
    "mdata_Dec_2019.head(10)[['permno','cret']]"
   ]
  },
  {
   "cell_type": "markdown",
   "metadata": {},
   "source": [
    "## Question 3"
   ]
  },
  {
   "cell_type": "markdown",
   "metadata": {},
   "source": [
    "List the top 10 firms that had the lowest 11-months performance returns as December 2019."
   ]
  },
  {
   "cell_type": "code",
   "execution_count": 101,
   "metadata": {},
   "outputs": [
    {
     "data": {
      "text/html": [
       "<div>\n",
       "<style scoped>\n",
       "    .dataframe tbody tr th:only-of-type {\n",
       "        vertical-align: middle;\n",
       "    }\n",
       "\n",
       "    .dataframe tbody tr th {\n",
       "        vertical-align: top;\n",
       "    }\n",
       "\n",
       "    .dataframe thead th {\n",
       "        text-align: right;\n",
       "    }\n",
       "</style>\n",
       "<table border=\"1\" class=\"dataframe\">\n",
       "  <thead>\n",
       "    <tr style=\"text-align: right;\">\n",
       "      <th></th>\n",
       "      <th>permno</th>\n",
       "      <th>cret</th>\n",
       "    </tr>\n",
       "  </thead>\n",
       "  <tbody>\n",
       "    <tr>\n",
       "      <th>1661992</th>\n",
       "      <td>92571</td>\n",
       "      <td>-0.999424</td>\n",
       "    </tr>\n",
       "    <tr>\n",
       "      <th>264775</th>\n",
       "      <td>16112</td>\n",
       "      <td>-0.991961</td>\n",
       "    </tr>\n",
       "    <tr>\n",
       "      <th>989963</th>\n",
       "      <td>84302</td>\n",
       "      <td>-0.988659</td>\n",
       "    </tr>\n",
       "    <tr>\n",
       "      <th>202036</th>\n",
       "      <td>14610</td>\n",
       "      <td>-0.986897</td>\n",
       "    </tr>\n",
       "    <tr>\n",
       "      <th>273337</th>\n",
       "      <td>16469</td>\n",
       "      <td>-0.985842</td>\n",
       "    </tr>\n",
       "    <tr>\n",
       "      <th>266970</th>\n",
       "      <td>16173</td>\n",
       "      <td>-0.965919</td>\n",
       "    </tr>\n",
       "    <tr>\n",
       "      <th>239247</th>\n",
       "      <td>15375</td>\n",
       "      <td>-0.961913</td>\n",
       "    </tr>\n",
       "    <tr>\n",
       "      <th>309511</th>\n",
       "      <td>17854</td>\n",
       "      <td>-0.960798</td>\n",
       "    </tr>\n",
       "    <tr>\n",
       "      <th>239471</th>\n",
       "      <td>15381</td>\n",
       "      <td>-0.953462</td>\n",
       "    </tr>\n",
       "    <tr>\n",
       "      <th>1442143</th>\n",
       "      <td>90298</td>\n",
       "      <td>-0.953426</td>\n",
       "    </tr>\n",
       "  </tbody>\n",
       "</table>\n",
       "</div>"
      ],
      "text/plain": [
       "         permno  \\\n",
       "1661992   92571   \n",
       "264775    16112   \n",
       "989963    84302   \n",
       "202036    14610   \n",
       "273337    16469   \n",
       "266970    16173   \n",
       "239247    15375   \n",
       "309511    17854   \n",
       "239471    15381   \n",
       "1442143   90298   \n",
       "\n",
       "             cret  \n",
       "1661992 -0.999424  \n",
       "264775  -0.991961  \n",
       "989963  -0.988659  \n",
       "202036  -0.986897  \n",
       "273337  -0.985842  \n",
       "266970  -0.965919  \n",
       "239247  -0.961913  \n",
       "309511  -0.960798  \n",
       "239471  -0.953462  \n",
       "1442143 -0.953426  "
      ]
     },
     "execution_count": 101,
     "metadata": {},
     "output_type": "execute_result"
    }
   ],
   "source": [
    "mdata_Dec_2019.sort_values(['cret'],ascending=True,inplace=True)\n",
    "mdata_Dec_2019.head(10)[['permno','cret']]"
   ]
  },
  {
   "cell_type": "markdown",
   "metadata": {},
   "source": [
    "# Stock Annual Questions"
   ]
  },
  {
   "cell_type": "markdown",
   "metadata": {},
   "source": [
    "## Question 4"
   ]
  },
  {
   "cell_type": "markdown",
   "metadata": {},
   "source": [
    "Calculate a time series of the value spread between the value stocks (top BEME bucket) and the growth stocks (bottom BEME bucket). The BEME value of each bucket should be calculated as the log of ratio of the sum of BE of all stocks in the bucket and the sum of ME of all stocks in the bucket."
   ]
  },
  {
   "cell_type": "code",
   "execution_count": 186,
   "metadata": {
    "scrolled": true
   },
   "outputs": [],
   "source": [
    "df_value_growth = pd.merge(adata[['rankyear','be','me','permno']],beme_sorts,on = ['rankyear','permno'])\n",
    "cal_value_spread = df_value_growth.groupby(['rankyear','bemeportfolio']).sum()\n",
    "cal_value_spread['log_ratio'] = np.log(cal_value_spread['be'] / cal_value_spread['me'])\n",
    "cal_value_spread.reset_index(inplace = True)\n",
    "cal_value_spread['beme_spread'] = cal_value_spread['log_ratio'].diff(2)\n",
    "res_value_spread = cal_value_spread[cal_value_spread['bemeportfolio'] == 'beme3']"
   ]
  },
  {
   "cell_type": "code",
   "execution_count": 187,
   "metadata": {},
   "outputs": [],
   "source": [
    "res_value_spread.set_index([\"rankyear\"], inplace=True)"
   ]
  },
  {
   "cell_type": "code",
   "execution_count": 188,
   "metadata": {},
   "outputs": [
    {
     "data": {
      "text/plain": [
       "<matplotlib.axes._subplots.AxesSubplot at 0x133f8ff28>"
      ]
     },
     "execution_count": 188,
     "metadata": {},
     "output_type": "execute_result"
    },
    {
     "data": {
      "image/png": "[encoded data removed]",
      "text/plain": [
       "<Figure size 432x288 with 1 Axes>"
      ]
     },
     "metadata": {
      "needs_background": "light"
     },
     "output_type": "display_data"
    }
   ],
   "source": [
    "res_value_spread['beme_spread'].plot()"
   ]
  },
  {
   "cell_type": "markdown",
   "metadata": {},
   "source": [
    "Question: Based on your plot, what is your best guess for the performance of value-minus-growth strategies in the last 10 years?"
   ]
  },
  {
   "cell_type": "markdown",
   "metadata": {},
   "source": [
    "In the last ten years, the value spread increased smoothly which indicated that the performance of value-minus-growth would also increase smoothly."
   ]
  },
  {
   "cell_type": "markdown",
   "metadata": {},
   "source": [
    "## Question 5"
   ]
  },
  {
   "cell_type": "markdown",
   "metadata": {},
   "source": [
    "Analogous to the value spread, calculate the profitability spread and the investment spread. Report a plot with the 3 time series plots."
   ]
  },
  {
   "cell_type": "markdown",
   "metadata": {},
   "source": [
    "### profitability spread"
   ]
  },
  {
   "cell_type": "code",
   "execution_count": 233,
   "metadata": {},
   "outputs": [],
   "source": [
    "df_opbe = pd.merge(adata[['rankyear','op','be','permno','opbe']],opbe_sorts,on = ['rankyear','permno'])\n",
    "cal_profit_spread = df_opbe.groupby(['rankyear','opbeportfolio']).sum()\n",
    "cal_profit_spread['ratio'] = cal_profit_spread['op'] / cal_profit_spread['be']\n",
    "cal_profit_spread.reset_index(inplace = True)\n",
    "cal_profit_spread['opbe_spread'] = cal_profit_spread['ratio'].diff(2)\n",
    "res_profit_spread = cal_profit_spread[cal_profit_spread['opbeportfolio'] == 'opbe3']"
   ]
  },
  {
   "cell_type": "code",
   "execution_count": 234,
   "metadata": {
    "scrolled": true
   },
   "outputs": [],
   "source": [
    "res_profit_spread.set_index([\"rankyear\"], inplace=True)"
   ]
  },
  {
   "cell_type": "code",
   "execution_count": 235,
   "metadata": {},
   "outputs": [
    {
     "data": {
      "text/plain": [
       "<matplotlib.axes._subplots.AxesSubplot at 0x1346273c8>"
      ]
     },
     "execution_count": 235,
     "metadata": {},
     "output_type": "execute_result"
    },
    {
     "data": {
      "image/png": "[encoded data removed]",
      "text/plain": [
       "<Figure size 432x288 with 1 Axes>"
      ]
     },
     "metadata": {
      "needs_background": "light"
     },
     "output_type": "display_data"
    }
   ],
   "source": [
    "res_profit_spread['opbe_spread'].plot()"
   ]
  },
  {
   "cell_type": "markdown",
   "metadata": {},
   "source": [
    "### investment spread"
   ]
  },
  {
   "cell_type": "code",
   "execution_count": 192,
   "metadata": {},
   "outputs": [],
   "source": [
    "df_inv = pd.merge(adata[['rankyear','be','me','permno','inv']],inv_sorts,on = ['rankyear','permno'])\n",
    "cal_inv_spread  = df_inv.groupby(['rankyear','invportfolio']).mean()"
   ]
  },
  {
   "cell_type": "code",
   "execution_count": 193,
   "metadata": {},
   "outputs": [
    {
     "data": {
      "text/plain": [
       "<matplotlib.axes._subplots.AxesSubplot at 0x129dd8fd0>"
      ]
     },
     "execution_count": 193,
     "metadata": {},
     "output_type": "execute_result"
    },
    {
     "data": {
      "image/png": "[encoded data removed]",
      "text/plain": [
       "<Figure size 432x288 with 1 Axes>"
      ]
     },
     "metadata": {
      "needs_background": "light"
     },
     "output_type": "display_data"
    }
   ],
   "source": [
    "cal_inv_spread .reset_index(inplace = True)\n",
    "cal_inv_spread ['inv_spread'] = cal_inv_spread ['inv'].diff(2)\n",
    "res_inv_spread = cal_inv_spread [cal_inv_spread ['invportfolio'] == 'inv3']\n",
    "res_inv_spread.set_index([\"rankyear\"], inplace=True)\n",
    "res_inv_spread['inv_spread'].plot()"
   ]
  },
  {
   "cell_type": "code",
   "execution_count": 236,
   "metadata": {},
   "outputs": [],
   "source": [
    "res_value_spread['opbe_spread'] = res_profit_spread['opbe_spread']\n",
    "res_value_spread['inv_spread'] = res_inv_spread['inv_spread']"
   ]
  },
  {
   "cell_type": "code",
   "execution_count": 237,
   "metadata": {},
   "outputs": [
    {
     "data": {
      "text/plain": [
       "<matplotlib.axes._subplots.AxesSubplot at 0x159179898>"
      ]
     },
     "execution_count": 237,
     "metadata": {},
     "output_type": "execute_result"
    },
    {
     "data": {
      "image/png": "[encoded data removed]",
      "text/plain": [
       "<Figure size 432x288 with 1 Axes>"
      ]
     },
     "metadata": {
      "needs_background": "light"
     },
     "output_type": "display_data"
    }
   ],
   "source": [
    "res_value_spread[['inv_spread','opbe_spread','beme_spread']].plot()"
   ]
  },
  {
   "cell_type": "code",
   "execution_count": null,
   "metadata": {},
   "outputs": [],
   "source": []
  }
 ],
 "metadata": {
  "kernelspec": {
   "display_name": "Python 3",
   "language": "python",
   "name": "python3"
  },
  "language_info": {
   "codemirror_mode": {
    "name": "ipython",
    "version": 3
   },
   "file_extension": ".py",
   "mimetype": "text/x-python",
   "name": "python",
   "nbconvert_exporter": "python",
   "pygments_lexer": "ipython3",
   "version": "3.7.0"
  }
 },
 "nbformat": 4,
 "nbformat_minor": 2
}
